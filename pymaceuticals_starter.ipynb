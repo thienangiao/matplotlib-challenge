{
 "cells": [
  {
   "cell_type": "markdown",
   "metadata": {},
   "source": [
    "## Observations and Insights "
   ]
  },
  {
   "cell_type": "markdown",
   "metadata": {},
   "source": [
    "### Observation 1\n",
    "Of all the drug regimens, Capomulin and Ramicane have the lowest standard deviation and lowest standard error of the mean (SEM). This indicates that the mean tumor volume values are accurate and happen to be the lowest compare to other drug regiments. Therefore, we can initially flag that these two drugs are the most effective in the treatment experiment. However, it needs to be aware that these two drugs have the most data points compare to the others and may have some bias affecting the outcome. To remove any other factors that could cause bias result, mice gender has been evenly selected for the experiment.\n",
    "\n",
    "### Observation 2\n",
    "Ceftamin and Infubinol are the next two drug regimens that have the next lowest tumor volume mean and also next lowest level of standard deviation and SEM. These two drugs have relatively the same number of data points compare with other remaining drug regimens. Therefore, it is a good approach to also include these two drugs into the analysis to determine if the difference in number of data points would result in bias outcome toward the drug of interest, Capomulin.\n",
    "From the analysis of outliers using the last tumor volume of each mice, we can conclude that the results of Capomulin and Ramicane, the two top performance drugs, have a lesser spread in the results and with no outliers. Therefore, the results of these two drugs have some high level of accuracy. Ceftamin and Infubinol have lesser level of confidence in the results, also has outlier, so we can ignore these from further analysis.\n",
    "\n",
    "### Observation 3\n",
    "With Capomulin, there is a relatively strong positive correlation between mice weight and tumor volume. As the weight increase, so does the tumor volume.\n",
    "\n"
   ]
  },
  {
   "cell_type": "code",
   "execution_count": 1,
   "metadata": {},
   "outputs": [
    {
     "data": {
      "text/html": [
       "<div>\n",
       "<style scoped>\n",
       "    .dataframe tbody tr th:only-of-type {\n",
       "        vertical-align: middle;\n",
       "    }\n",
       "\n",
       "    .dataframe tbody tr th {\n",
       "        vertical-align: top;\n",
       "    }\n",
       "\n",
       "    .dataframe thead th {\n",
       "        text-align: right;\n",
       "    }\n",
       "</style>\n",
       "<table border=\"1\" class=\"dataframe\">\n",
       "  <thead>\n",
       "    <tr style=\"text-align: right;\">\n",
       "      <th></th>\n",
       "      <th>Mouse ID</th>\n",
       "      <th>Timepoint</th>\n",
       "      <th>Tumor Volume (mm3)</th>\n",
       "      <th>Metastatic Sites</th>\n",
       "      <th>Drug Regimen</th>\n",
       "      <th>Sex</th>\n",
       "      <th>Age_months</th>\n",
       "      <th>Weight (g)</th>\n",
       "    </tr>\n",
       "  </thead>\n",
       "  <tbody>\n",
       "    <tr>\n",
       "      <th>0</th>\n",
       "      <td>b128</td>\n",
       "      <td>0</td>\n",
       "      <td>45.0</td>\n",
       "      <td>0</td>\n",
       "      <td>Capomulin</td>\n",
       "      <td>Female</td>\n",
       "      <td>9</td>\n",
       "      <td>22</td>\n",
       "    </tr>\n",
       "    <tr>\n",
       "      <th>1</th>\n",
       "      <td>f932</td>\n",
       "      <td>0</td>\n",
       "      <td>45.0</td>\n",
       "      <td>0</td>\n",
       "      <td>Ketapril</td>\n",
       "      <td>Male</td>\n",
       "      <td>15</td>\n",
       "      <td>29</td>\n",
       "    </tr>\n",
       "    <tr>\n",
       "      <th>2</th>\n",
       "      <td>g107</td>\n",
       "      <td>0</td>\n",
       "      <td>45.0</td>\n",
       "      <td>0</td>\n",
       "      <td>Ketapril</td>\n",
       "      <td>Female</td>\n",
       "      <td>2</td>\n",
       "      <td>29</td>\n",
       "    </tr>\n",
       "  </tbody>\n",
       "</table>\n",
       "</div>"
      ],
      "text/plain": [
       "  Mouse ID  Timepoint  Tumor Volume (mm3)  Metastatic Sites Drug Regimen  \\\n",
       "0     b128          0                45.0                 0    Capomulin   \n",
       "1     f932          0                45.0                 0     Ketapril   \n",
       "2     g107          0                45.0                 0     Ketapril   \n",
       "\n",
       "      Sex  Age_months  Weight (g)  \n",
       "0  Female           9          22  \n",
       "1    Male          15          29  \n",
       "2  Female           2          29  "
      ]
     },
     "execution_count": 1,
     "metadata": {},
     "output_type": "execute_result"
    }
   ],
   "source": [
    "# Dependencies and Setup\n",
    "import matplotlib.pyplot as plt\n",
    "import pandas as pd\n",
    "import random\n",
    "import scipy.stats as st\n",
    "from scipy.stats import linregress\n",
    "\n",
    "\n",
    "# Study data files\n",
    "mouse_metadata_path = \"data/Mouse_metadata.csv\"\n",
    "study_results_path = \"data/Study_results.csv\"\n",
    "\n",
    "# Read the mouse data and the study results\n",
    "mouse_metadata = pd.read_csv(mouse_metadata_path)\n",
    "study_results = pd.read_csv(study_results_path)\n",
    "\n",
    "# Combine the data into a single dataset\n",
    "combined_df = pd.merge(study_results, mouse_metadata, how=\"left\", on=\"Mouse ID\")\n",
    "\n",
    "# Display the data table for preview\n",
    "combined_df.head(3)"
   ]
  },
  {
   "cell_type": "code",
   "execution_count": 2,
   "metadata": {},
   "outputs": [
    {
     "name": "stdout",
     "output_type": "stream",
     "text": [
      "249\n"
     ]
    }
   ],
   "source": [
    "# Checking the number of mice.\n",
    "print(len(combined_df[\"Mouse ID\"].unique()))"
   ]
  },
  {
   "cell_type": "code",
   "execution_count": 3,
   "metadata": {},
   "outputs": [
    {
     "data": {
      "text/html": [
       "<div>\n",
       "<style scoped>\n",
       "    .dataframe tbody tr th:only-of-type {\n",
       "        vertical-align: middle;\n",
       "    }\n",
       "\n",
       "    .dataframe tbody tr th {\n",
       "        vertical-align: top;\n",
       "    }\n",
       "\n",
       "    .dataframe thead th {\n",
       "        text-align: right;\n",
       "    }\n",
       "</style>\n",
       "<table border=\"1\" class=\"dataframe\">\n",
       "  <thead>\n",
       "    <tr style=\"text-align: right;\">\n",
       "      <th></th>\n",
       "      <th>Mouse ID</th>\n",
       "      <th>Timepoint</th>\n",
       "      <th>Tumor Volume (mm3)</th>\n",
       "      <th>Metastatic Sites</th>\n",
       "      <th>Drug Regimen</th>\n",
       "      <th>Sex</th>\n",
       "      <th>Age_months</th>\n",
       "      <th>Weight (g)</th>\n",
       "      <th>UI</th>\n",
       "    </tr>\n",
       "  </thead>\n",
       "  <tbody>\n",
       "    <tr>\n",
       "      <th>0</th>\n",
       "      <td>b128</td>\n",
       "      <td>0</td>\n",
       "      <td>45.0</td>\n",
       "      <td>0</td>\n",
       "      <td>Capomulin</td>\n",
       "      <td>Female</td>\n",
       "      <td>9</td>\n",
       "      <td>22</td>\n",
       "      <td>b1280</td>\n",
       "    </tr>\n",
       "    <tr>\n",
       "      <th>1</th>\n",
       "      <td>f932</td>\n",
       "      <td>0</td>\n",
       "      <td>45.0</td>\n",
       "      <td>0</td>\n",
       "      <td>Ketapril</td>\n",
       "      <td>Male</td>\n",
       "      <td>15</td>\n",
       "      <td>29</td>\n",
       "      <td>f9320</td>\n",
       "    </tr>\n",
       "    <tr>\n",
       "      <th>2</th>\n",
       "      <td>g107</td>\n",
       "      <td>0</td>\n",
       "      <td>45.0</td>\n",
       "      <td>0</td>\n",
       "      <td>Ketapril</td>\n",
       "      <td>Female</td>\n",
       "      <td>2</td>\n",
       "      <td>29</td>\n",
       "      <td>g1070</td>\n",
       "    </tr>\n",
       "  </tbody>\n",
       "</table>\n",
       "</div>"
      ],
      "text/plain": [
       "  Mouse ID  Timepoint  Tumor Volume (mm3)  Metastatic Sites Drug Regimen  \\\n",
       "0     b128          0                45.0                 0    Capomulin   \n",
       "1     f932          0                45.0                 0     Ketapril   \n",
       "2     g107          0                45.0                 0     Ketapril   \n",
       "\n",
       "      Sex  Age_months  Weight (g)     UI  \n",
       "0  Female           9          22  b1280  \n",
       "1    Male          15          29  f9320  \n",
       "2  Female           2          29  g1070  "
      ]
     },
     "execution_count": 3,
     "metadata": {},
     "output_type": "execute_result"
    }
   ],
   "source": [
    "# Create a unique record id with Mouse ID and Timepoint\n",
    "combined_df[\"UI\"]=combined_df[\"Mouse ID\"] + combined_df[\"Timepoint\"].astype(str)\n",
    "combined_df.head(3)"
   ]
  },
  {
   "cell_type": "code",
   "execution_count": 4,
   "metadata": {},
   "outputs": [
    {
     "data": {
      "text/html": [
       "<div>\n",
       "<style scoped>\n",
       "    .dataframe tbody tr th:only-of-type {\n",
       "        vertical-align: middle;\n",
       "    }\n",
       "\n",
       "    .dataframe tbody tr th {\n",
       "        vertical-align: top;\n",
       "    }\n",
       "\n",
       "    .dataframe thead th {\n",
       "        text-align: right;\n",
       "    }\n",
       "</style>\n",
       "<table border=\"1\" class=\"dataframe\">\n",
       "  <thead>\n",
       "    <tr style=\"text-align: right;\">\n",
       "      <th></th>\n",
       "      <th>Mouse ID</th>\n",
       "      <th>record_count</th>\n",
       "    </tr>\n",
       "    <tr>\n",
       "      <th>UI</th>\n",
       "      <th></th>\n",
       "      <th></th>\n",
       "    </tr>\n",
       "  </thead>\n",
       "  <tbody>\n",
       "    <tr>\n",
       "      <th>g9890</th>\n",
       "      <td>g989</td>\n",
       "      <td>2</td>\n",
       "    </tr>\n",
       "    <tr>\n",
       "      <th>g98910</th>\n",
       "      <td>g989</td>\n",
       "      <td>2</td>\n",
       "    </tr>\n",
       "    <tr>\n",
       "      <th>g98915</th>\n",
       "      <td>g989</td>\n",
       "      <td>2</td>\n",
       "    </tr>\n",
       "    <tr>\n",
       "      <th>g98920</th>\n",
       "      <td>g989</td>\n",
       "      <td>2</td>\n",
       "    </tr>\n",
       "    <tr>\n",
       "      <th>g9895</th>\n",
       "      <td>g989</td>\n",
       "      <td>2</td>\n",
       "    </tr>\n",
       "  </tbody>\n",
       "</table>\n",
       "</div>"
      ],
      "text/plain": [
       "       Mouse ID  record_count\n",
       "UI                           \n",
       "g9890      g989             2\n",
       "g98910     g989             2\n",
       "g98915     g989             2\n",
       "g98920     g989             2\n",
       "g9895      g989             2"
      ]
     },
     "execution_count": 4,
     "metadata": {},
     "output_type": "execute_result"
    }
   ],
   "source": [
    "# Getting the duplicate mice by ID number that shows up for Mouse ID and Timepoint. \n",
    "grp_ui_df=combined_df.groupby([\"UI\"])\n",
    "mouse_id=grp_ui_df[\"Mouse ID\"].min()\n",
    "records=grp_ui_df[\"Mouse ID\"].count()\n",
    "\n",
    "count_df = pd.DataFrame({\"Mouse ID\":mouse_id,\"record_count\":records})\n",
    "\n",
    "dup_mouseid_df = count_df.loc[count_df[\"record_count\"] > 1,:]\n",
    "\n",
    "dup_mouseid_df"
   ]
  },
  {
   "cell_type": "code",
   "execution_count": 5,
   "metadata": {},
   "outputs": [
    {
     "data": {
      "text/html": [
       "<div>\n",
       "<style scoped>\n",
       "    .dataframe tbody tr th:only-of-type {\n",
       "        vertical-align: middle;\n",
       "    }\n",
       "\n",
       "    .dataframe tbody tr th {\n",
       "        vertical-align: top;\n",
       "    }\n",
       "\n",
       "    .dataframe thead th {\n",
       "        text-align: right;\n",
       "    }\n",
       "</style>\n",
       "<table border=\"1\" class=\"dataframe\">\n",
       "  <thead>\n",
       "    <tr style=\"text-align: right;\">\n",
       "      <th></th>\n",
       "      <th>Mouse ID</th>\n",
       "      <th>Timepoint</th>\n",
       "      <th>Tumor Volume (mm3)</th>\n",
       "      <th>Metastatic Sites</th>\n",
       "      <th>Drug Regimen</th>\n",
       "      <th>Sex</th>\n",
       "      <th>Age_months</th>\n",
       "      <th>Weight (g)</th>\n",
       "      <th>UI</th>\n",
       "    </tr>\n",
       "  </thead>\n",
       "  <tbody>\n",
       "    <tr>\n",
       "      <th>0</th>\n",
       "      <td>b128</td>\n",
       "      <td>0</td>\n",
       "      <td>45.0</td>\n",
       "      <td>0</td>\n",
       "      <td>Capomulin</td>\n",
       "      <td>Female</td>\n",
       "      <td>9</td>\n",
       "      <td>22</td>\n",
       "      <td>b1280</td>\n",
       "    </tr>\n",
       "    <tr>\n",
       "      <th>1</th>\n",
       "      <td>f932</td>\n",
       "      <td>0</td>\n",
       "      <td>45.0</td>\n",
       "      <td>0</td>\n",
       "      <td>Ketapril</td>\n",
       "      <td>Male</td>\n",
       "      <td>15</td>\n",
       "      <td>29</td>\n",
       "      <td>f9320</td>\n",
       "    </tr>\n",
       "    <tr>\n",
       "      <th>2</th>\n",
       "      <td>g107</td>\n",
       "      <td>0</td>\n",
       "      <td>45.0</td>\n",
       "      <td>0</td>\n",
       "      <td>Ketapril</td>\n",
       "      <td>Female</td>\n",
       "      <td>2</td>\n",
       "      <td>29</td>\n",
       "      <td>g1070</td>\n",
       "    </tr>\n",
       "  </tbody>\n",
       "</table>\n",
       "</div>"
      ],
      "text/plain": [
       "  Mouse ID  Timepoint  Tumor Volume (mm3)  Metastatic Sites Drug Regimen  \\\n",
       "0     b128          0                45.0                 0    Capomulin   \n",
       "1     f932          0                45.0                 0     Ketapril   \n",
       "2     g107          0                45.0                 0     Ketapril   \n",
       "\n",
       "      Sex  Age_months  Weight (g)     UI  \n",
       "0  Female           9          22  b1280  \n",
       "1    Male          15          29  f9320  \n",
       "2  Female           2          29  g1070  "
      ]
     },
     "execution_count": 5,
     "metadata": {},
     "output_type": "execute_result"
    }
   ],
   "source": [
    "# Create a clean DataFrame by dropping the duplicate mouse by its ID.\n",
    "\n",
    "analysis_df=combined_df.loc[combined_df[\"Mouse ID\"] != \"g989\",:] \n",
    "\n",
    "analysis_df.head(3)"
   ]
  },
  {
   "cell_type": "code",
   "execution_count": 6,
   "metadata": {},
   "outputs": [
    {
     "name": "stdout",
     "output_type": "stream",
     "text": [
      "248\n"
     ]
    }
   ],
   "source": [
    "# Checking the number of mice in the clean DataFrame.\n",
    "print(len(analysis_df[\"Mouse ID\"].unique()))"
   ]
  },
  {
   "cell_type": "markdown",
   "metadata": {},
   "source": [
    "## Summary Statistics"
   ]
  },
  {
   "cell_type": "code",
   "execution_count": 7,
   "metadata": {},
   "outputs": [
    {
     "data": {
      "text/html": [
       "<div>\n",
       "<style scoped>\n",
       "    .dataframe tbody tr th:only-of-type {\n",
       "        vertical-align: middle;\n",
       "    }\n",
       "\n",
       "    .dataframe tbody tr th {\n",
       "        vertical-align: top;\n",
       "    }\n",
       "\n",
       "    .dataframe thead th {\n",
       "        text-align: right;\n",
       "    }\n",
       "</style>\n",
       "<table border=\"1\" class=\"dataframe\">\n",
       "  <thead>\n",
       "    <tr style=\"text-align: right;\">\n",
       "      <th></th>\n",
       "      <th>Mean</th>\n",
       "      <th>Median</th>\n",
       "      <th>Variance</th>\n",
       "      <th>Standard Deviation</th>\n",
       "      <th>SEM</th>\n",
       "    </tr>\n",
       "    <tr>\n",
       "      <th>Drug Regimen</th>\n",
       "      <th></th>\n",
       "      <th></th>\n",
       "      <th></th>\n",
       "      <th></th>\n",
       "      <th></th>\n",
       "    </tr>\n",
       "  </thead>\n",
       "  <tbody>\n",
       "    <tr>\n",
       "      <th>Capomulin</th>\n",
       "      <td>40.675741</td>\n",
       "      <td>41.557809</td>\n",
       "      <td>24.947764</td>\n",
       "      <td>4.994774</td>\n",
       "      <td>0.329346</td>\n",
       "    </tr>\n",
       "    <tr>\n",
       "      <th>Ceftamin</th>\n",
       "      <td>52.591172</td>\n",
       "      <td>51.776157</td>\n",
       "      <td>39.290177</td>\n",
       "      <td>6.268188</td>\n",
       "      <td>0.469821</td>\n",
       "    </tr>\n",
       "    <tr>\n",
       "      <th>Infubinol</th>\n",
       "      <td>52.884795</td>\n",
       "      <td>51.820584</td>\n",
       "      <td>43.128684</td>\n",
       "      <td>6.567243</td>\n",
       "      <td>0.492236</td>\n",
       "    </tr>\n",
       "    <tr>\n",
       "      <th>Ketapril</th>\n",
       "      <td>55.235638</td>\n",
       "      <td>53.698743</td>\n",
       "      <td>68.553577</td>\n",
       "      <td>8.279709</td>\n",
       "      <td>0.603860</td>\n",
       "    </tr>\n",
       "    <tr>\n",
       "      <th>Naftisol</th>\n",
       "      <td>54.331565</td>\n",
       "      <td>52.509285</td>\n",
       "      <td>66.173479</td>\n",
       "      <td>8.134708</td>\n",
       "      <td>0.596466</td>\n",
       "    </tr>\n",
       "    <tr>\n",
       "      <th>Placebo</th>\n",
       "      <td>54.033581</td>\n",
       "      <td>52.288934</td>\n",
       "      <td>61.168083</td>\n",
       "      <td>7.821003</td>\n",
       "      <td>0.581331</td>\n",
       "    </tr>\n",
       "    <tr>\n",
       "      <th>Propriva</th>\n",
       "      <td>52.320930</td>\n",
       "      <td>50.446266</td>\n",
       "      <td>43.852013</td>\n",
       "      <td>6.622085</td>\n",
       "      <td>0.544332</td>\n",
       "    </tr>\n",
       "    <tr>\n",
       "      <th>Ramicane</th>\n",
       "      <td>40.216745</td>\n",
       "      <td>40.673236</td>\n",
       "      <td>23.486704</td>\n",
       "      <td>4.846308</td>\n",
       "      <td>0.320955</td>\n",
       "    </tr>\n",
       "    <tr>\n",
       "      <th>Stelasyn</th>\n",
       "      <td>54.233149</td>\n",
       "      <td>52.431737</td>\n",
       "      <td>59.450562</td>\n",
       "      <td>7.710419</td>\n",
       "      <td>0.573111</td>\n",
       "    </tr>\n",
       "    <tr>\n",
       "      <th>Zoniferol</th>\n",
       "      <td>53.236507</td>\n",
       "      <td>51.818479</td>\n",
       "      <td>48.533355</td>\n",
       "      <td>6.966589</td>\n",
       "      <td>0.516398</td>\n",
       "    </tr>\n",
       "  </tbody>\n",
       "</table>\n",
       "</div>"
      ],
      "text/plain": [
       "                   Mean     Median   Variance  Standard Deviation       SEM\n",
       "Drug Regimen                                                               \n",
       "Capomulin     40.675741  41.557809  24.947764            4.994774  0.329346\n",
       "Ceftamin      52.591172  51.776157  39.290177            6.268188  0.469821\n",
       "Infubinol     52.884795  51.820584  43.128684            6.567243  0.492236\n",
       "Ketapril      55.235638  53.698743  68.553577            8.279709  0.603860\n",
       "Naftisol      54.331565  52.509285  66.173479            8.134708  0.596466\n",
       "Placebo       54.033581  52.288934  61.168083            7.821003  0.581331\n",
       "Propriva      52.320930  50.446266  43.852013            6.622085  0.544332\n",
       "Ramicane      40.216745  40.673236  23.486704            4.846308  0.320955\n",
       "Stelasyn      54.233149  52.431737  59.450562            7.710419  0.573111\n",
       "Zoniferol     53.236507  51.818479  48.533355            6.966589  0.516398"
      ]
     },
     "execution_count": 7,
     "metadata": {},
     "output_type": "execute_result"
    }
   ],
   "source": [
    "# Generate a summary statistics table of mean, median, variance, standard deviation, and SEM of the tumor volume for each regimen\n",
    "\n",
    "# This method produces everything in a single groupby function\n",
    "grp_reg_df=analysis_df.groupby([\"Drug Regimen\"])\n",
    "\n",
    "mean_vol=grp_reg_df[\"Tumor Volume (mm3)\"].mean()\n",
    "median_vol=grp_reg_df[\"Tumor Volume (mm3)\"].median()\n",
    "var_vol=grp_reg_df[\"Tumor Volume (mm3)\"].var()\n",
    "std_vol=grp_reg_df[\"Tumor Volume (mm3)\"].std()\n",
    "sem_vol=grp_reg_df[\"Tumor Volume (mm3)\"].sem()\n",
    "\n",
    "cnt_UI=grp_reg_df[\"UI\"].count()\n",
    "regimen=grp_reg_df[\"Drug Regimen\"].min()\n",
    "\n",
    "reg_stat_df = pd.DataFrame({\"Mean\": mean_vol,\n",
    "                            \"Median\": median_vol,\n",
    "                            \"Variance\": var_vol,\n",
    "                            \"Standard Deviation\": std_vol,\n",
    "                            \"SEM\": sem_vol\n",
    "                           })\n",
    "\n",
    "reg_stat_df\n"
   ]
  },
  {
   "cell_type": "markdown",
   "metadata": {},
   "source": [
    "## Bar and Pie Charts"
   ]
  },
  {
   "cell_type": "code",
   "execution_count": 8,
   "metadata": {},
   "outputs": [
    {
     "data": {
      "image/png": "[encoded data removed]",
      "text/plain": [
       "<Figure size 576x432 with 1 Axes>"
      ]
     },
     "metadata": {
      "needs_background": "light"
     },
     "output_type": "display_data"
    }
   ],
   "source": [
    "# Generate a bar plot showing the total number of mice for each treatment throughout the course of the study using pandas. \n",
    "records_regimen=pd.DataFrame({\"No. of Data Points\": cnt_UI, \"Drug Regimen\": regimen})\n",
    "\n",
    "records_regimen = records_regimen.reset_index(drop=True)\n",
    "\n",
    "records_regimen.plot(kind=\"bar\", x=\"Drug Regimen\", y=\"No. of Data Points\", figsize=(8,6) ,width=0.7\n",
    "                     , title=\"Data Points per Drug Regimen\", legend=False)\n",
    "\n",
    "plt.xlabel(\"Drug Regimen\")\n",
    "plt.ylabel(\"No. of Data Points\")\n",
    "\n",
    "\n",
    "plt.tight_layout()\n"
   ]
  },
  {
   "cell_type": "code",
   "execution_count": 9,
   "metadata": {},
   "outputs": [
    {
     "data": {
      "image/png": "[encoded data removed]",
      "text/plain": [
       "<Figure size 576x504 with 1 Axes>"
      ]
     },
     "metadata": {
      "needs_background": "light"
     },
     "output_type": "display_data"
    }
   ],
   "source": [
    "# Generate a bar plot showing the total number of mice for each treatment throughout the course of the study using pyplot.\n",
    "x_axis=sorted(analysis_df[\"Drug Regimen\"].unique())\n",
    "y_axis=cnt_UI\n",
    "\n",
    "plt.figure(figsize=(8,7))\n",
    "plt.bar(x_axis, y_axis, align=\"center\", width=0.7, label=\"No. of Data Points\")\n",
    "plt.xticks(x_axis,rotation=\"vertical\")\n",
    "plt.title(\"Data Points per Drug Regimen\")\n",
    "plt.xlabel(\"Drug Regimen\")\n",
    "plt.ylabel(\"No. of Data Points\")\n",
    "\n",
    "plt.tight_layout()\n",
    "\n"
   ]
  },
  {
   "cell_type": "code",
   "execution_count": 10,
   "metadata": {},
   "outputs": [
    {
     "data": {
      "image/png": "[encoded data removed]",
      "text/plain": [
       "<Figure size 432x288 with 1 Axes>"
      ]
     },
     "metadata": {},
     "output_type": "display_data"
    }
   ],
   "source": [
    "# Generate a pie plot showing the distribution of female versus male mice using pandas\n",
    "grp_sex_df=analysis_df.groupby([\"Sex\"])\n",
    "\n",
    "cnt_mice=grp_sex_df[\"Mouse ID\"].nunique()\n",
    "\n",
    "sex_df = pd.DataFrame({\"Count Mice\": cnt_mice})\n",
    "\n",
    "sex_pct = sex_df.plot(kind=\"pie\",y=\"Count Mice\", autopct='%1.1f%%', startangle=90, fontsize=14,\n",
    "                      legend=False, title=\"Distribution of Mice Gender\")\n",
    "plt.axis(\"equal\")\n",
    "plt.axis('off')\n",
    "\n",
    "plt.show()\n"
   ]
  },
  {
   "cell_type": "code",
   "execution_count": 11,
   "metadata": {},
   "outputs": [
    {
     "data": {
      "image/png": "[encoded data removed]",
      "text/plain": [
       "<Figure size 432x288 with 1 Axes>"
      ]
     },
     "metadata": {},
     "output_type": "display_data"
    }
   ],
   "source": [
    "# Generate a pie plot showing the distribution of female versus male mice using pyplot\n",
    "gender=sorted(analysis_df[\"Sex\"].unique())\n",
    "mice_count=cnt_mice\n",
    "\n",
    "plt.pie(mice_count, labels=gender, autopct='%1.1f%%', startangle=90, textprops={'fontsize': 14})\n",
    "plt.axis(\"equal\")\n",
    "plt.title(\"Distribution of Mice Gender\")\n",
    "\n",
    "plt.show()"
   ]
  },
  {
   "cell_type": "markdown",
   "metadata": {},
   "source": [
    "## Quartiles, Outliers and Boxplots"
   ]
  },
  {
   "cell_type": "code",
   "execution_count": 12,
   "metadata": {},
   "outputs": [
    {
     "data": {
      "text/html": [
       "<div>\n",
       "<style scoped>\n",
       "    .dataframe tbody tr th:only-of-type {\n",
       "        vertical-align: middle;\n",
       "    }\n",
       "\n",
       "    .dataframe tbody tr th {\n",
       "        vertical-align: top;\n",
       "    }\n",
       "\n",
       "    .dataframe thead th {\n",
       "        text-align: right;\n",
       "    }\n",
       "</style>\n",
       "<table border=\"1\" class=\"dataframe\">\n",
       "  <thead>\n",
       "    <tr style=\"text-align: right;\">\n",
       "      <th></th>\n",
       "      <th>Mouse ID</th>\n",
       "      <th>Timepoint</th>\n",
       "      <th>Tumor Volume (mm3)</th>\n",
       "      <th>Metastatic Sites</th>\n",
       "      <th>Drug Regimen</th>\n",
       "      <th>Sex</th>\n",
       "      <th>Age_months</th>\n",
       "      <th>Weight (g)</th>\n",
       "      <th>UI</th>\n",
       "    </tr>\n",
       "  </thead>\n",
       "  <tbody>\n",
       "    <tr>\n",
       "      <th>0</th>\n",
       "      <td>u153</td>\n",
       "      <td>0</td>\n",
       "      <td>45.0</td>\n",
       "      <td>0</td>\n",
       "      <td>Ceftamin</td>\n",
       "      <td>Female</td>\n",
       "      <td>11</td>\n",
       "      <td>25</td>\n",
       "      <td>u1530</td>\n",
       "    </tr>\n",
       "    <tr>\n",
       "      <th>1</th>\n",
       "      <td>b447</td>\n",
       "      <td>0</td>\n",
       "      <td>45.0</td>\n",
       "      <td>0</td>\n",
       "      <td>Ceftamin</td>\n",
       "      <td>Male</td>\n",
       "      <td>2</td>\n",
       "      <td>30</td>\n",
       "      <td>b4470</td>\n",
       "    </tr>\n",
       "    <tr>\n",
       "      <th>2</th>\n",
       "      <td>x226</td>\n",
       "      <td>0</td>\n",
       "      <td>45.0</td>\n",
       "      <td>0</td>\n",
       "      <td>Ceftamin</td>\n",
       "      <td>Male</td>\n",
       "      <td>23</td>\n",
       "      <td>28</td>\n",
       "      <td>x2260</td>\n",
       "    </tr>\n",
       "  </tbody>\n",
       "</table>\n",
       "</div>"
      ],
      "text/plain": [
       "  Mouse ID  Timepoint  Tumor Volume (mm3)  Metastatic Sites Drug Regimen  \\\n",
       "0     u153          0                45.0                 0     Ceftamin   \n",
       "1     b447          0                45.0                 0     Ceftamin   \n",
       "2     x226          0                45.0                 0     Ceftamin   \n",
       "\n",
       "      Sex  Age_months  Weight (g)     UI  \n",
       "0  Female          11          25  u1530  \n",
       "1    Male           2          30  b4470  \n",
       "2    Male          23          28  x2260  "
      ]
     },
     "execution_count": 12,
     "metadata": {},
     "output_type": "execute_result"
    }
   ],
   "source": [
    "# Calculate the final tumor volume of each mouse across four of the treatment regimens:  \n",
    "# Capomulin, Ramicane, Infubinol, and Ceftamin\n",
    "sl_reg_df=analysis_df.loc[(analysis_df[\"Drug Regimen\"] == \"Capomulin\") | (analysis_df[\"Drug Regimen\"] == \"Ramicane\") |\n",
    "                          (analysis_df[\"Drug Regimen\"] == \"Infubinol\") | (analysis_df[\"Drug Regimen\"] == \"Ceftamin\"),:] \n",
    "\n",
    "# Start by getting the last (greatest) timepoint for each mouse\n",
    "gr_mice_df = sl_reg_df.groupby([\"Mouse ID\"])\n",
    "\n",
    "last_tpoint = gr_mice_df[\"Timepoint\"].max()\n",
    "\n",
    "mice_lpoint_df = pd.DataFrame({\"Timepoint\": last_tpoint})\n",
    "\n",
    "\n",
    "# Merge this group df with the original dataframe to get the tumor volume at the last timepoint\n",
    "\n",
    "final_tumor_df = pd.merge(sl_reg_df, mice_lpoint_df, how=\"inner\", on=[\"Mouse ID\",\"Timepoint\"])\n",
    "\n",
    "final_tumor_df.head(3)\n"
   ]
  },
  {
   "cell_type": "code",
   "execution_count": 13,
   "metadata": {},
   "outputs": [
    {
     "name": "stdout",
     "output_type": "stream",
     "text": [
      "Drug Regimen: Capomulin\n",
      "Q1: 32.37735684\n",
      "Q3: 40.1592203\n",
      "IQR: 7.781863460000004\n",
      "Values below 20.70456164999999 could be outliers\n",
      "Values above 51.83201549 could be outliers\n"
     ]
    }
   ],
   "source": [
    "# New list of Tumor Volume for:\n",
    "# Capomulin\n",
    "capomulin_df = final_tumor_df.loc[final_tumor_df[\"Drug Regimen\"] == \"Capomulin\",\"Tumor Volume (mm3)\"]\n",
    "\n",
    "\n",
    "# Calculate the IQR and quantitatively determine if there are any potential outliers.\n",
    "\n",
    "cap_quartiles = capomulin_df.quantile([.25,.5,.75])\n",
    "cap_lowerq = cap_quartiles[0.25]\n",
    "cap_upperq = cap_quartiles[0.75]\n",
    "cap_iqr = cap_upperq-cap_lowerq\n",
    "\n",
    "cap_lower_bound = cap_lowerq - (1.5*cap_iqr)\n",
    "cap_upper_bound = cap_upperq + (1.5*cap_iqr)\n",
    "\n",
    " # Determine outliers using upper and lower bounds\n",
    "print(\"Drug Regimen: Capomulin\")\n",
    "print(f\"Q1: {cap_lowerq}\")\n",
    "print(f\"Q3: {cap_upperq}\")    \n",
    "print(f\"IQR: {cap_iqr}\")\n",
    "print(f\"Values below {cap_lower_bound} could be outliers\")\n",
    "print(f\"Values above {cap_upper_bound} could be outliers\")\n"
   ]
  },
  {
   "cell_type": "code",
   "execution_count": 14,
   "metadata": {},
   "outputs": [
    {
     "name": "stdout",
     "output_type": "stream",
     "text": [
      "Drug Regimen: Ramicane\n",
      "Q1: 31.56046955\n",
      "Q3: 40.65900627\n",
      "IQR: 9.098536719999998\n",
      "Values below 17.912664470000003 could be outliers\n",
      "Values above 54.30681135 could be outliers\n"
     ]
    }
   ],
   "source": [
    "# New list of Tumor Volume for:\n",
    "# Ramicane\n",
    "ramicane_df = final_tumor_df.loc[final_tumor_df[\"Drug Regimen\"] == \"Ramicane\",\"Tumor Volume (mm3)\"]\n",
    "\n",
    "\n",
    "# Calculate the IQR and quantitatively determine if there are any potential outliers.\n",
    "\n",
    "ram_quartiles = ramicane_df.quantile([.25,.5,.75])\n",
    "ram_lowerq = ram_quartiles[0.25]\n",
    "ram_upperq = ram_quartiles[0.75]\n",
    "ram_iqr = ram_upperq-ram_lowerq\n",
    "\n",
    "ram_lower_bound = ram_lowerq - (1.5*ram_iqr)\n",
    "ram_upper_bound = ram_upperq + (1.5*ram_iqr)\n",
    "\n",
    " # Determine outliers using upper and lower bounds\n",
    "print(\"Drug Regimen: Ramicane\")\n",
    "print(f\"Q1: {ram_lowerq}\")\n",
    "print(f\"Q3: {ram_upperq}\")    \n",
    "print(f\"IQR: {ram_iqr}\")\n",
    "print(f\"Values below {ram_lower_bound} could be outliers\")\n",
    "print(f\"Values above {ram_upper_bound} could be outliers\")"
   ]
  },
  {
   "cell_type": "code",
   "execution_count": 15,
   "metadata": {},
   "outputs": [
    {
     "name": "stdout",
     "output_type": "stream",
     "text": [
      "Drug Regimen: Infubinol\n",
      "Q1: 54.04860769\n",
      "Q3: 65.52574285\n",
      "IQR: 11.477135160000003\n",
      "Values below 36.83290494999999 could be outliers\n",
      "Values above 82.74144559000001 could be outliers\n"
     ]
    }
   ],
   "source": [
    "# New list of Tumor Volume for:\n",
    "# Infubinal\n",
    "infubinol_df = final_tumor_df.loc[final_tumor_df[\"Drug Regimen\"] == \"Infubinol\",\"Tumor Volume (mm3)\"]\n",
    "\n",
    "\n",
    "# Calculate the IQR and quantitatively determine if there are any potential outliers.\n",
    "\n",
    "inf_quartiles = infubinol_df.quantile([.25,.5,.75])\n",
    "inf_lowerq = inf_quartiles[0.25]\n",
    "inf_upperq = inf_quartiles[0.75]\n",
    "inf_iqr = inf_upperq-inf_lowerq\n",
    "\n",
    "inf_lower_bound = inf_lowerq - (1.5*inf_iqr)\n",
    "inf_upper_bound = inf_upperq + (1.5*inf_iqr)\n",
    "\n",
    " # Determine outliers using upper and lower bounds\n",
    "print(\"Drug Regimen: Infubinol\")\n",
    "print(f\"Q1: {inf_lowerq}\")\n",
    "print(f\"Q3: {inf_upperq}\")    \n",
    "print(f\"IQR: {inf_iqr}\")\n",
    "print(f\"Values below {inf_lower_bound} could be outliers\")\n",
    "print(f\"Values above {inf_upper_bound} could be outliers\")"
   ]
  },
  {
   "cell_type": "code",
   "execution_count": 16,
   "metadata": {},
   "outputs": [
    {
     "name": "stdout",
     "output_type": "stream",
     "text": [
      "Drug Regimen: Ceftamin\n",
      "Q1: 48.72207785\n",
      "Q3: 64.29983003\n",
      "IQR: 15.577752179999997\n",
      "Values below 25.355449580000002 could be outliers\n",
      "Values above 87.66645829999999 could be outliers\n"
     ]
    }
   ],
   "source": [
    "# New list of Tumor Volume for:\n",
    "# Ceftamin\n",
    "ceftamin_df = final_tumor_df.loc[final_tumor_df[\"Drug Regimen\"] == \"Ceftamin\",\"Tumor Volume (mm3)\"]\n",
    "\n",
    "\n",
    "# Calculate the IQR and quantitatively determine if there are any potential outliers.\n",
    "\n",
    "cef_quartiles = ceftamin_df.quantile([.25,.5,.75])\n",
    "cef_lowerq = cef_quartiles[0.25]\n",
    "cef_upperq = cef_quartiles[0.75]\n",
    "cef_iqr = cef_upperq-cef_lowerq\n",
    "\n",
    "cef_lower_bound = cef_lowerq - (1.5*cef_iqr)\n",
    "cef_upper_bound = cef_upperq + (1.5*cef_iqr)\n",
    "\n",
    " # Determine outliers using upper and lower bounds\n",
    "print(\"Drug Regimen: Ceftamin\")\n",
    "print(f\"Q1: {cef_lowerq}\")\n",
    "print(f\"Q3: {cef_upperq}\")    \n",
    "print(f\"IQR: {cef_iqr}\")\n",
    "print(f\"Values below {cef_lower_bound} could be outliers\")\n",
    "print(f\"Values above {cef_upper_bound} could be outliers\")"
   ]
  },
  {
   "cell_type": "code",
   "execution_count": 17,
   "metadata": {},
   "outputs": [
    {
     "data": {
      "image/png": "[encoded data removed]",
      "text/plain": [
       "<Figure size 720x432 with 1 Axes>"
      ]
     },
     "metadata": {
      "needs_background": "light"
     },
     "output_type": "display_data"
    }
   ],
   "source": [
    "# Generate a box plot of the final tumor volume of each mouse across four regimens of interest\n",
    "\n",
    "data = [capomulin_df,ramicane_df,infubinol_df,ceftamin_df]\n",
    "props = dict(markeredgecolor=\"r\", marker=\"x\")\n",
    "\n",
    "fig1, ax1 = plt.subplots(figsize=(10,6))\n",
    "ax1.set_title(\"Final Tumor Volume per Regimen\")\n",
    "ax1.boxplot(data, flierprops=props, patch_artist=True)\n",
    "ax1.set_ylim(0,80)\n",
    "ax1.yaxis.grid(True)\n",
    "ax1.set_ylabel(\"Tumor Volume (mm3)\")\n",
    "plt.xticks([1,2,3,4],[\"Capomulin\",\"Ramicane\",\"Infubinol\",\"Ceftamin\"])\n",
    "plt.xlabel(\"Drug Regimen\")\n",
    "\n",
    "plt.show()"
   ]
  },
  {
   "cell_type": "markdown",
   "metadata": {},
   "source": [
    "## Line and Scatter Plots"
   ]
  },
  {
   "cell_type": "code",
   "execution_count": 18,
   "metadata": {},
   "outputs": [
    {
     "data": {
      "image/png": "[encoded data removed]",
      "text/plain": [
       "<Figure size 432x288 with 1 Axes>"
      ]
     },
     "metadata": {
      "needs_background": "light"
     },
     "output_type": "display_data"
    }
   ],
   "source": [
    "# Generate a line plot of time point versus tumor volume for a mouse treated with Capomulin\n",
    "columns = [\"Mouse ID\",\"Drug Regimen\",\"Timepoint\",\"Tumor Volume (mm3)\"]\n",
    "cap_mice_df=analysis_df.loc[analysis_df[\"Drug Regimen\"] == \"Capomulin\",:] \n",
    "\n",
    "regimen = cap_mice_df[\"Drug Regimen\"].min()\n",
    "\n",
    "\n",
    "# Select a random Mouse ID within the dataframe\n",
    "options = cap_mice_df[\"Mouse ID\"].unique()\n",
    "sample_mice=random.choice(options)\n",
    "\n",
    "# Create a sample dataframe of the selected Mouse ID for chart\n",
    "sample_df=cap_mice_df.loc[cap_mice_df[\"Mouse ID\"] == sample_mice,columns]\n",
    "\n",
    "# Determine top value for y-axis limit \n",
    "top_y = sample_df[\"Tumor Volume (mm3)\"].max()\n",
    "\n",
    "plt.plot(sample_df[\"Timepoint\"],sample_df[\"Tumor Volume (mm3)\"], label=sample_mice, linewidth=3.5)\n",
    "\n",
    "plt.ylim(0,top_y+10)\n",
    "plt.title(f\"Tumor Volume vs Time Point for {regimen}\")\n",
    "plt.xlabel(\"Time Point\")\n",
    "plt.ylabel(\"Tumor Volume (mm3)\")\n",
    "plt.legend(loc=\"best\")\n",
    "plt.tight_layout()\n"
   ]
  },
  {
   "cell_type": "code",
   "execution_count": 19,
   "metadata": {},
   "outputs": [
    {
     "data": {
      "image/png": "[encoded data removed]",
      "text/plain": [
       "<Figure size 576x432 with 1 Axes>"
      ]
     },
     "metadata": {
      "needs_background": "light"
     },
     "output_type": "display_data"
    }
   ],
   "source": [
    "# Generate a scatter plot of mouse weight versus average tumor volume for the Capomulin regimen\n",
    "gr_capmice_df = cap_mice_df.groupby([\"Weight (g)\"])\n",
    "\n",
    "mean_vol = gr_capmice_df[\"Tumor Volume (mm3)\"].mean()\n",
    "weight = gr_capmice_df[\"Weight (g)\"].min()\n",
    "\n",
    "scatter_df = pd.DataFrame({\"Avg Tumor Volume (mm3)\": mean_vol,\n",
    "                          \"Weight (g)\": weight})\n",
    "\n",
    "scatter_df = scatter_df.reset_index(drop=True)\n",
    "\n",
    "scatter_df.plot(kind=\"scatter\", x=\"Weight (g)\", y=\"Avg Tumor Volume (mm3)\", grid=True, figsize=(8,6)\n",
    "                , title=\"Weight Vs Avg Tumor Volume of Capomulin\")\n",
    "\n",
    "top_y2=scatter_df[\"Avg Tumor Volume (mm3)\"].max()\n",
    "plt.ylim(0,top_y2+10)\n",
    "\n",
    "plt.show()\n"
   ]
  },
  {
   "cell_type": "markdown",
   "metadata": {},
   "source": [
    "## Correlation and Regression"
   ]
  },
  {
   "cell_type": "code",
   "execution_count": 20,
   "metadata": {},
   "outputs": [
    {
     "name": "stdout",
     "output_type": "stream",
     "text": [
      "The correlation between mice weight and average tumor volume is 0.95\n"
     ]
    },
    {
     "data": {
      "image/png": "[encoded data removed]",
      "text/plain": [
       "<Figure size 432x288 with 1 Axes>"
      ]
     },
     "metadata": {
      "needs_background": "light"
     },
     "output_type": "display_data"
    }
   ],
   "source": [
    "# Calculate the correlation coefficient and linear regression model \n",
    "# for mouse weight and average tumor volume for the Capomulin regimen\n",
    "\n",
    "m_weight=scatter_df.iloc[:,1]\n",
    "a_volume=scatter_df.iloc[:,0]\n",
    "\n",
    "# Correlation coefficient\n",
    "correlation = st.pearsonr(m_weight,a_volume)\n",
    "print(f\"The correlation between mice weight and average tumor volume is {round(correlation[0],2)}\")\n",
    "\n",
    "#Linear regression model\n",
    "(slope, intercept, rvalue, pvalue, stderr) = linregress(m_weight,a_volume)\n",
    "regress_values = m_weight * slope + intercept\n",
    "line_eq = \"y = \" + str(round(slope,2)) + \"x + \" + str(round(intercept,2))\n",
    "\n",
    "plt.scatter(m_weight,a_volume)\n",
    "plt.plot(m_weight,regress_values,\"r-\")\n",
    "\n",
    "plt.annotate(line_eq,(18,37),fontsize=14,color=\"red\")\n",
    "\n",
    "plt.title(\"Weight Vs Avg Tumor Volume of Capomulin\")\n",
    "plt.xlabel(\"Weight (g)\")\n",
    "plt.ylabel(\"Avg. Tumor Volume (mm3)\")\n",
    "\n",
    "plt.show()\n"
   ]
  },
  {
   "cell_type": "code",
   "execution_count": null,
   "metadata": {},
   "outputs": [],
   "source": []
  }
 ],
 "metadata": {
  "anaconda-cloud": {},
  "kernelspec": {
   "display_name": "Python 3",
   "language": "python",
   "name": "python3"
  },
  "language_info": {
   "codemirror_mode": {
    "name": "ipython",
    "version": 3
   },
   "file_extension": ".py",
   "mimetype": "text/x-python",
   "name": "python",
   "nbconvert_exporter": "python",
   "pygments_lexer": "ipython3",
   "version": "3.6.10"
  }
 },
 "nbformat": 4,
 "nbformat_minor": 2
}
